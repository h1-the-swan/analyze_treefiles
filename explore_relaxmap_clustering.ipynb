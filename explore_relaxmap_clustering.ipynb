{
 "cells": [
  {
   "cell_type": "code",
   "execution_count": 2,
   "metadata": {
    "collapsed": true
   },
   "outputs": [],
   "source": [
    "from collections import Counter\n",
    "import cPickle as pickle\n",
    "import sys, os, time"
   ]
  },
  {
   "cell_type": "code",
   "execution_count": 3,
   "metadata": {
    "collapsed": true
   },
   "outputs": [],
   "source": [
    "def parse_tree_line(line):\n",
    "    line = line.strip().split(' ')\n",
    "    cl = line[0]\n",
    "    paper_rank = float(line[1])\n",
    "    paper_id = line[2].strip('\"')\n",
    "    return {\n",
    "        'cl': cl,\n",
    "        'paper_rank': paper_rank,\n",
    "        'paper_id': paper_id\n",
    "    }"
   ]
  },
  {
   "cell_type": "code",
   "execution_count": 4,
   "metadata": {
    "collapsed": true
   },
   "outputs": [],
   "source": [
    "fname = 'data/wos_one-based-numbering.tree'"
   ]
  },
  {
   "cell_type": "code",
   "execution_count": 4,
   "metadata": {
    "collapsed": false
   },
   "outputs": [
    {
     "name": "stdout",
     "output_type": "stream",
     "text": [
      "0\n",
      "1\n",
      "5\n",
      "10\n",
      "100\n",
      "1000\n",
      "10000\n",
      "100000\n",
      "1000000\n",
      "5000000\n",
      "10000000\n",
      "50000000\n",
      "100000000\n",
      "150000000\n",
      "200000000\n",
      "CPU times: user 9min 28s, sys: 10.1 s, total: 9min 38s\n",
      "Wall time: 18min 56s\n"
     ]
    }
   ],
   "source": [
    "%%time\n",
    "c = Counter()\n",
    "num_vertices = 219963473\n",
    "i = 0\n",
    "with open(fname, 'r') as f:\n",
    "    for line in f:\n",
    "        if line[0] == \"#\":\n",
    "            continue\n",
    "            \n",
    "        item = parse_tree_line(line)\n",
    "        cl = item['cl']\n",
    "        cl = cl.split(':')[0]\n",
    "        c[cl] += 1\n",
    "    \n",
    "        if (i in [1, 5, 10, 100, 1000, 10000, 100000, 1e6, 5e6, 10e6]) or (i % 50e6 == 0):\n",
    "            print(i)\n",
    "        i += 1"
   ]
  },
  {
   "cell_type": "code",
   "execution_count": 5,
   "metadata": {
    "collapsed": false
   },
   "outputs": [
    {
     "data": {
      "text/plain": [
       "[('4193910', 104603717),\n",
       " ('4654150', 119752),\n",
       " ('6245469', 97902),\n",
       " ('5639372', 88305),\n",
       " ('7371898', 85981),\n",
       " ('6273522', 85794),\n",
       " ('1935800', 79509),\n",
       " ('1000491', 74676),\n",
       " ('6497556', 71522),\n",
       " ('808980', 65840)]"
      ]
     },
     "execution_count": 5,
     "metadata": {},
     "output_type": "execute_result"
    }
   ],
   "source": [
    "c.most_common(10)"
   ]
  },
  {
   "cell_type": "code",
   "execution_count": 5,
   "metadata": {
    "collapsed": false
   },
   "outputs": [],
   "source": [
    "import pandas as pd\n",
    "import numpy as np\n",
    "import matplotlib.pyplot as plt\n",
    "import seaborn as sns"
   ]
  },
  {
   "cell_type": "code",
   "execution_count": 6,
   "metadata": {
    "collapsed": true
   },
   "outputs": [],
   "source": [
    "%matplotlib inline"
   ]
  },
  {
   "cell_type": "code",
   "execution_count": 7,
   "metadata": {
    "collapsed": false
   },
   "outputs": [],
   "source": [
    "with open('data/wos_relaxtree_cl_count.pickle', 'rb') as f:\n",
    "    c = pickle.load(f)"
   ]
  },
  {
   "cell_type": "code",
   "execution_count": 8,
   "metadata": {
    "collapsed": true
   },
   "outputs": [],
   "source": [
    "randomstate = np.random.RandomState(seed=999)"
   ]
  },
  {
   "cell_type": "code",
   "execution_count": 9,
   "metadata": {
    "collapsed": false
   },
   "outputs": [],
   "source": [
    "df = pd.DataFrame.from_dict(c, orient='index')"
   ]
  },
  {
   "cell_type": "code",
   "execution_count": 10,
   "metadata": {
    "collapsed": false
   },
   "outputs": [
    {
     "data": {
      "text/html": [
       "<div>\n",
       "<table border=\"1\" class=\"dataframe\">\n",
       "  <thead>\n",
       "    <tr style=\"text-align: right;\">\n",
       "      <th></th>\n",
       "      <th>0</th>\n",
       "    </tr>\n",
       "  </thead>\n",
       "  <tbody>\n",
       "    <tr>\n",
       "      <th>4193910</th>\n",
       "      <td>104603717</td>\n",
       "    </tr>\n",
       "    <tr>\n",
       "      <th>4654150</th>\n",
       "      <td>119752</td>\n",
       "    </tr>\n",
       "    <tr>\n",
       "      <th>6245469</th>\n",
       "      <td>97902</td>\n",
       "    </tr>\n",
       "    <tr>\n",
       "      <th>5639372</th>\n",
       "      <td>88305</td>\n",
       "    </tr>\n",
       "    <tr>\n",
       "      <th>7371898</th>\n",
       "      <td>85981</td>\n",
       "    </tr>\n",
       "  </tbody>\n",
       "</table>\n",
       "</div>"
      ],
      "text/plain": [
       "                 0\n",
       "4193910  104603717\n",
       "4654150     119752\n",
       "6245469      97902\n",
       "5639372      88305\n",
       "7371898      85981"
      ]
     },
     "execution_count": 10,
     "metadata": {},
     "output_type": "execute_result"
    }
   ],
   "source": [
    "df.sort_values(0, ascending=False).head()"
   ]
  },
  {
   "cell_type": "code",
   "execution_count": 11,
   "metadata": {
    "collapsed": false
   },
   "outputs": [
    {
     "name": "stdout",
     "output_type": "stream",
     "text": [
      "total: 219963473\n",
      "num_clusters: 13041875\n",
      "num_singletons: 7218400 (55.3% of the clusters, 3.3% of the papers)\n",
      "number of clusters with more than 10 papers: 1094108 (8.4% of the clusters, 88.6% of the papers)\n"
     ]
    }
   ],
   "source": [
    "total = df[0].sum()\n",
    "print('total: {}'.format(total))\n",
    "num_clusters = df.shape[0]\n",
    "print('num_clusters: {}'.format(num_clusters))\n",
    "def print_stats(subset, label):\n",
    "    num = subset.shape[0]\n",
    "    num_papers = subset[0].sum()\n",
    "    print('{}: {} ({:.1f}% of the clusters, {:.1f}% of the papers)'.format(label, num, float(num)/num_clusters*100, float(num_papers)/total*100))\n",
    "# num_singletons = (df[0]==1).sum()\n",
    "num_singletons = df[df[0]==1]\n",
    "print_stats(num_singletons, 'num_singletons')\n",
    "# print('num_singletons: {} ({:.1f}% of the clusters, {:.1f}% of the papers)'.format(num_singletons, float(num_singletons)/num_clusters*100, float(num_singletons)/total*100))\n",
    "# num_morethan10 = (df[0]>10).sum()\n",
    "num_morethan10 = df[df[0]>10]\n",
    "print_stats(num_morethan10, 'number of clusters with more than 10 papers')"
   ]
  },
  {
   "cell_type": "code",
   "execution_count": 12,
   "metadata": {
    "collapsed": false,
    "scrolled": true
   },
   "outputs": [
    {
     "name": "stdout",
     "output_type": "stream",
     "text": [
      "number of clusters with more than 1 papers: 5823475 (44.7% of the clusters, 96.7% of the papers)\n",
      "number of clusters with more than 10 papers: 1094108 (8.4% of the clusters, 88.6% of the papers)\n",
      "number of clusters with more than 100 papers: 86330 (0.7% of the clusters, 77.8% of the papers)\n",
      "number of clusters with more than 500 papers: 24241 (0.2% of the clusters, 71.9% of the papers)\n",
      "number of clusters with more than 1000 papers: 13171 (0.1% of the clusters, 68.3% of the papers)\n",
      "number of clusters with more than 10000 papers: 697 (0.0% of the clusters, 53.8% of the papers)\n",
      "number of clusters with more than 100000 papers: 2 (0.0% of the clusters, 47.6% of the papers)\n"
     ]
    }
   ],
   "source": [
    "def print_stats_above_threshold(thresh, df=df, label=None):\n",
    "    subset = df[df[0]>thresh]\n",
    "    if not label:\n",
    "        label = 'number of clusters with more than {} papers'.format(thresh)\n",
    "    print_stats(subset, label)\n",
    "for i in [1, 10, 100, 500, 1000, 10000, 100000]:\n",
    "    print_stats_above_threshold(i)\n"
   ]
  },
  {
   "cell_type": "code",
   "execution_count": null,
   "metadata": {
    "collapsed": true
   },
   "outputs": [],
   "source": []
  },
  {
   "cell_type": "code",
   "execution_count": 59,
   "metadata": {
    "collapsed": false
   },
   "outputs": [
    {
     "data": {
      "image/png": "[encoded data removed]",
      "text/plain": [
       "<matplotlib.figure.Figure at 0x7f6483372050>"
      ]
     },
     "metadata": {},
     "output_type": "display_data"
    }
   ],
   "source": [
    "df = df.rename(columns={0: 'cluster_size'})\n",
    "fig, ax = plt.subplots()\n",
    "\n",
    "ax.hist(df.cluster_size, bins=5)\n",
    "\n",
    "plt.show()"
   ]
  },
  {
   "cell_type": "code",
   "execution_count": 68,
   "metadata": {
    "collapsed": false
   },
   "outputs": [
    {
     "data": {
      "text/plain": [
       "[<matplotlib.lines.Line2D at 0x7f64819d4690>]"
      ]
     },
     "execution_count": 68,
     "metadata": {},
     "output_type": "execute_result"
    },
    {
     "data": {
      "image/png": "[encoded data removed]",
      "text/plain": [
       "<matplotlib.figure.Figure at 0x7f6481ff9650>"
      ]
     },
     "metadata": {},
     "output_type": "display_data"
    }
   ],
   "source": [
    "size_count_data = df.cluster_size.value_counts().sort_index()\n",
    "fig, ax = plt.subplots()\n",
    "ax.set_yscale('log')\n",
    "ax.set_xscale('log')\n",
    "ax.plot(size_count_data.index.tolist(), size_count_data.values)"
   ]
  },
  {
   "cell_type": "code",
   "execution_count": null,
   "metadata": {
    "collapsed": true
   },
   "outputs": [],
   "source": []
  },
  {
   "cell_type": "code",
   "execution_count": null,
   "metadata": {
    "collapsed": true
   },
   "outputs": [],
   "source": []
  },
  {
   "cell_type": "code",
   "execution_count": null,
   "metadata": {
    "collapsed": true
   },
   "outputs": [],
   "source": []
  },
  {
   "cell_type": "code",
   "execution_count": 12,
   "metadata": {
    "collapsed": true
   },
   "outputs": [],
   "source": [
    "counter_fname = 'data/wos_relaxtree_cl_count.pickle'"
   ]
  },
  {
   "cell_type": "code",
   "execution_count": 13,
   "metadata": {
    "collapsed": false
   },
   "outputs": [],
   "source": [
    "# %%time\n",
    "# with open(counter_fname, 'wb') as f:\n",
    "#     pickle.dump(c, f, protocol=pickle.HIGHEST_PROTOCOL)"
   ]
  },
  {
   "cell_type": "code",
   "execution_count": 17,
   "metadata": {
    "collapsed": false
   },
   "outputs": [],
   "source": [
    "def write_biggest_clusters_to_csv(c, N=100, outfname=None, sep=','):\n",
    "    if not outfname:\n",
    "        outfname = 'biggest_{}_clusters.csv'.format(N)\n",
    "    \n",
    "    with open(outfname, 'w') as outf:\n",
    "        outf.write(sep.join(['cl_name', 'num_nodes']))\n",
    "        outf.write('\\n')\n",
    "        for item in c.most_common(N):\n",
    "            outf.write(sep.join(str(x) for x in item))\n",
    "            outf.write('\\n')\n",
    "# write_biggest_clusters_to_csv(c, N=100)"
   ]
  },
  {
   "cell_type": "code",
   "execution_count": null,
   "metadata": {
    "collapsed": true
   },
   "outputs": [],
   "source": []
  },
  {
   "cell_type": "code",
   "execution_count": null,
   "metadata": {
    "collapsed": true
   },
   "outputs": [],
   "source": []
  },
  {
   "cell_type": "code",
   "execution_count": 35,
   "metadata": {
    "collapsed": false
   },
   "outputs": [],
   "source": [
    "cluster_size_10 = df[df[0]==10]\n",
    "testcl = cluster_size_10.sample(n=1, random_state=randomstate)[0]"
   ]
  },
  {
   "cell_type": "code",
   "execution_count": 42,
   "metadata": {
    "collapsed": false
   },
   "outputs": [],
   "source": [
    "testcl_name = testcl.index[0]"
   ]
  },
  {
   "cell_type": "code",
   "execution_count": 44,
   "metadata": {
    "collapsed": true
   },
   "outputs": [],
   "source": [
    "pjk_fname = '../tr/wos_one-based-numbering.net'\n",
    "clu_fname = 'data/wos_one-based-numbering.clu'"
   ]
  },
  {
   "cell_type": "code",
   "execution_count": 50,
   "metadata": {
    "collapsed": false
   },
   "outputs": [
    {
     "name": "stdout",
     "output_type": "stream",
     "text": [
      "CPU times: user 0 ns, sys: 0 ns, total: 0 ns\n",
      "Wall time: 64.8 µs\n"
     ]
    }
   ],
   "source": [
    "%%time\n",
    "testcl_linenos = []\n",
    "with open(clu_fname, 'r') as f:\n",
    "    i = 0\n",
    "    for line in f:\n",
    "#         if line.strip() == testcl_name:\n",
    "        if line.strip() == '8':\n",
    "            testcl_linenos.append(i)\n",
    "        i += 1\n",
    "        if i > 100:\n",
    "            break"
   ]
  },
  {
   "cell_type": "code",
   "execution_count": 51,
   "metadata": {
    "collapsed": false
   },
   "outputs": [
    {
     "data": {
      "text/plain": [
       "[5, 6, 7, 8]"
      ]
     },
     "execution_count": 51,
     "metadata": {},
     "output_type": "execute_result"
    }
   ],
   "source": [
    "testcl_linenos"
   ]
  },
  {
   "cell_type": "code",
   "execution_count": 53,
   "metadata": {
    "collapsed": false
   },
   "outputs": [
    {
     "data": {
      "text/plain": [
       "0    3\n",
       "Name: 8, dtype: int64"
      ]
     },
     "execution_count": 53,
     "metadata": {},
     "output_type": "execute_result"
    }
   ],
   "source": [
    "df.loc['8']"
   ]
  },
  {
   "cell_type": "code",
   "execution_count": 59,
   "metadata": {
    "collapsed": false
   },
   "outputs": [
    {
     "name": "stdout",
     "output_type": "stream",
     "text": [
      "76\n",
      "{'paper_rank': 3.33213e-09, 'paper_id': 'WOS:000201758600083', 'cl': '8:1'}\n",
      "\n",
      "77\n",
      "{'paper_rank': 4.74828e-09, 'paper_id': 'WOS:000201758600083.2', 'cl': '8:2'}\n",
      "\n",
      "78\n",
      "{'paper_rank': 4.74828e-09, 'paper_id': 'WOS:000201758600083.1', 'cl': '8:3'}\n",
      "\n"
     ]
    },
    {
     "ename": "KeyboardInterrupt",
     "evalue": "",
     "output_type": "error",
     "traceback": [
      "\u001b[0;31m---------------------------------------------------------------------------\u001b[0m",
      "\u001b[0;31mKeyboardInterrupt\u001b[0m                         Traceback (most recent call last)",
      "\u001b[0;32m<ipython-input-59-fba40a2027a6>\u001b[0m in \u001b[0;36m<module>\u001b[0;34m()\u001b[0m\n\u001b[0;32m----> 1\u001b[0;31m \u001b[0mget_ipython\u001b[0m\u001b[0;34m(\u001b[0m\u001b[0;34m)\u001b[0m\u001b[0;34m.\u001b[0m\u001b[0mrun_cell_magic\u001b[0m\u001b[0;34m(\u001b[0m\u001b[0;34mu'time'\u001b[0m\u001b[0;34m,\u001b[0m \u001b[0;34mu''\u001b[0m\u001b[0;34m,\u001b[0m \u001b[0;34mu'i = 0\\nwith open(\\'data/wos_one-based-numbering.tree\\', \\'r\\') as f:\\n    for line in f:\\n        if line[0] == \"#\":\\n            continue\\n            \\n        item = parse_tree_line(line)\\n        cl = item[\\'cl\\']\\n        cl = cl.split(\\':\\')[0]\\n        if cl == \\'8\\':\\n            print(i)\\n            print(item)\\n            print(\"\")\\n        i += 1'\u001b[0m\u001b[0;34m)\u001b[0m\u001b[0;34m\u001b[0m\u001b[0m\n\u001b[0m",
      "\u001b[0;32m/home/jason/.local/lib/python2.7/site-packages/IPython/core/interactiveshell.pyc\u001b[0m in \u001b[0;36mrun_cell_magic\u001b[0;34m(self, magic_name, line, cell)\u001b[0m\n\u001b[1;32m   2113\u001b[0m             \u001b[0mmagic_arg_s\u001b[0m \u001b[0;34m=\u001b[0m \u001b[0mself\u001b[0m\u001b[0;34m.\u001b[0m\u001b[0mvar_expand\u001b[0m\u001b[0;34m(\u001b[0m\u001b[0mline\u001b[0m\u001b[0;34m,\u001b[0m \u001b[0mstack_depth\u001b[0m\u001b[0;34m)\u001b[0m\u001b[0;34m\u001b[0m\u001b[0m\n\u001b[1;32m   2114\u001b[0m             \u001b[0;32mwith\u001b[0m \u001b[0mself\u001b[0m\u001b[0;34m.\u001b[0m\u001b[0mbuiltin_trap\u001b[0m\u001b[0;34m:\u001b[0m\u001b[0;34m\u001b[0m\u001b[0m\n\u001b[0;32m-> 2115\u001b[0;31m                 \u001b[0mresult\u001b[0m \u001b[0;34m=\u001b[0m \u001b[0mfn\u001b[0m\u001b[0;34m(\u001b[0m\u001b[0mmagic_arg_s\u001b[0m\u001b[0;34m,\u001b[0m \u001b[0mcell\u001b[0m\u001b[0;34m)\u001b[0m\u001b[0;34m\u001b[0m\u001b[0m\n\u001b[0m\u001b[1;32m   2116\u001b[0m             \u001b[0;32mreturn\u001b[0m \u001b[0mresult\u001b[0m\u001b[0;34m\u001b[0m\u001b[0m\n\u001b[1;32m   2117\u001b[0m \u001b[0;34m\u001b[0m\u001b[0m\n",
      "\u001b[0;32m<decorator-gen-59>\u001b[0m in \u001b[0;36mtime\u001b[0;34m(self, line, cell, local_ns)\u001b[0m\n",
      "\u001b[0;32m/home/jason/.local/lib/python2.7/site-packages/IPython/core/magic.pyc\u001b[0m in \u001b[0;36m<lambda>\u001b[0;34m(f, *a, **k)\u001b[0m\n\u001b[1;32m    186\u001b[0m     \u001b[0;31m# but it's overkill for just that one bit of state.\u001b[0m\u001b[0;34m\u001b[0m\u001b[0;34m\u001b[0m\u001b[0m\n\u001b[1;32m    187\u001b[0m     \u001b[0;32mdef\u001b[0m \u001b[0mmagic_deco\u001b[0m\u001b[0;34m(\u001b[0m\u001b[0marg\u001b[0m\u001b[0;34m)\u001b[0m\u001b[0;34m:\u001b[0m\u001b[0;34m\u001b[0m\u001b[0m\n\u001b[0;32m--> 188\u001b[0;31m         \u001b[0mcall\u001b[0m \u001b[0;34m=\u001b[0m \u001b[0;32mlambda\u001b[0m \u001b[0mf\u001b[0m\u001b[0;34m,\u001b[0m \u001b[0;34m*\u001b[0m\u001b[0ma\u001b[0m\u001b[0;34m,\u001b[0m \u001b[0;34m**\u001b[0m\u001b[0mk\u001b[0m\u001b[0;34m:\u001b[0m \u001b[0mf\u001b[0m\u001b[0;34m(\u001b[0m\u001b[0;34m*\u001b[0m\u001b[0ma\u001b[0m\u001b[0;34m,\u001b[0m \u001b[0;34m**\u001b[0m\u001b[0mk\u001b[0m\u001b[0;34m)\u001b[0m\u001b[0;34m\u001b[0m\u001b[0m\n\u001b[0m\u001b[1;32m    189\u001b[0m \u001b[0;34m\u001b[0m\u001b[0m\n\u001b[1;32m    190\u001b[0m         \u001b[0;32mif\u001b[0m \u001b[0mcallable\u001b[0m\u001b[0;34m(\u001b[0m\u001b[0marg\u001b[0m\u001b[0;34m)\u001b[0m\u001b[0;34m:\u001b[0m\u001b[0;34m\u001b[0m\u001b[0m\n",
      "\u001b[0;32m/home/jason/.local/lib/python2.7/site-packages/IPython/core/magics/execution.pyc\u001b[0m in \u001b[0;36mtime\u001b[0;34m(self, line, cell, local_ns)\u001b[0m\n\u001b[1;32m   1178\u001b[0m         \u001b[0;32melse\u001b[0m\u001b[0;34m:\u001b[0m\u001b[0;34m\u001b[0m\u001b[0m\n\u001b[1;32m   1179\u001b[0m             \u001b[0mst\u001b[0m \u001b[0;34m=\u001b[0m \u001b[0mclock2\u001b[0m\u001b[0;34m(\u001b[0m\u001b[0;34m)\u001b[0m\u001b[0;34m\u001b[0m\u001b[0m\n\u001b[0;32m-> 1180\u001b[0;31m             \u001b[0;32mexec\u001b[0m\u001b[0;34m(\u001b[0m\u001b[0mcode\u001b[0m\u001b[0;34m,\u001b[0m \u001b[0mglob\u001b[0m\u001b[0;34m,\u001b[0m \u001b[0mlocal_ns\u001b[0m\u001b[0;34m)\u001b[0m\u001b[0;34m\u001b[0m\u001b[0m\n\u001b[0m\u001b[1;32m   1181\u001b[0m             \u001b[0mend\u001b[0m \u001b[0;34m=\u001b[0m \u001b[0mclock2\u001b[0m\u001b[0;34m(\u001b[0m\u001b[0;34m)\u001b[0m\u001b[0;34m\u001b[0m\u001b[0m\n\u001b[1;32m   1182\u001b[0m             \u001b[0mout\u001b[0m \u001b[0;34m=\u001b[0m \u001b[0mNone\u001b[0m\u001b[0;34m\u001b[0m\u001b[0m\n",
      "\u001b[0;32m<timed exec>\u001b[0m in \u001b[0;36m<module>\u001b[0;34m()\u001b[0m\n",
      "\u001b[0;31mKeyboardInterrupt\u001b[0m: "
     ]
    }
   ],
   "source": [
    "%%time\n",
    "i = 0\n",
    "with open('data/wos_one-based-numbering.tree', 'r') as f:\n",
    "    for line in f:\n",
    "        if line[0] == \"#\":\n",
    "            continue\n",
    "            \n",
    "        item = parse_tree_line(line)\n",
    "        cl = item['cl']\n",
    "        cl = cl.split(':')[0]\n",
    "        if cl == '8':\n",
    "            print(i)\n",
    "            print(item)\n",
    "            print(\"\")\n",
    "        i += 1"
   ]
  },
  {
   "cell_type": "code",
   "execution_count": 60,
   "metadata": {
    "collapsed": false
   },
   "outputs": [
    {
     "data": {
      "text/plain": [
       "3"
      ]
     },
     "execution_count": 60,
     "metadata": {},
     "output_type": "execute_result"
    }
   ],
   "source": [
    "c['8']"
   ]
  },
  {
   "cell_type": "code",
   "execution_count": 61,
   "metadata": {
    "collapsed": true
   },
   "outputs": [],
   "source": [
    "pjk_index = [5,6,7,8]  # These papers are '8' in the .clu file\n",
    "paper_ids = []\n",
    "with open('../tr/wos_one-based-numbering.net', 'r') as f:\n",
    "    i = 0\n",
    "    for line in f:\n",
    "        i += 1\n",
    "        if line[0] == '*':\n",
    "            continue\n",
    "        line = line.strip().split(' ')\n",
    "        idx = int(line[0])\n",
    "        if idx in pjk_index:\n",
    "            paper_ids.append(line[1])\n",
    "        if i > 100:\n",
    "            break"
   ]
  },
  {
   "cell_type": "code",
   "execution_count": 72,
   "metadata": {
    "collapsed": false
   },
   "outputs": [],
   "source": [
    "paper_ids = [x.strip('\"') for x in paper_ids]"
   ]
  },
  {
   "cell_type": "code",
   "execution_count": 74,
   "metadata": {
    "collapsed": false
   },
   "outputs": [
    {
     "name": "stdout",
     "output_type": "stream",
     "text": [
      "CPU times: user 0 ns, sys: 0 ns, total: 0 ns\n",
      "Wall time: 7.98 ms\n"
     ]
    }
   ],
   "source": [
    "%%time\n",
    "i = 0\n",
    "tree_items = []\n",
    "with open('data/wos_one-based-numbering.tree', 'r') as f:\n",
    "    for line in f:\n",
    "        if line[0] == \"#\":\n",
    "            continue\n",
    "            \n",
    "        item = parse_tree_line(line)\n",
    "        paper_id = item['paper_id']\n",
    "        if paper_id in paper_ids:\n",
    "            tree_items.append(item)\n",
    "            \n",
    "        i += 1\n",
    "        if len(tree_items) == 4:\n",
    "            break"
   ]
  },
  {
   "cell_type": "code",
   "execution_count": 75,
   "metadata": {
    "collapsed": false
   },
   "outputs": [
    {
     "data": {
      "text/plain": [
       "[{'cl': '2:1', 'paper_id': 'WOS:000200960600144', 'paper_rank': 3.33213e-09},\n",
       " {'cl': '2:2',\n",
       "  'paper_id': 'WOS:000202637300042.12',\n",
       "  'paper_rank': 7.52513e-09},\n",
       " {'cl': '2:3', 'paper_id': 'WOS:000200960600144.2', 'paper_rank': 4.38194e-09},\n",
       " {'cl': '2:4', 'paper_id': 'WOS:000200960600144.1', 'paper_rank': 4.27623e-09}]"
      ]
     },
     "execution_count": 75,
     "metadata": {},
     "output_type": "execute_result"
    }
   ],
   "source": [
    "tree_items\n",
    "# they are in cluster '2'. Why are they '8' in the .clu file?"
   ]
  },
  {
   "cell_type": "code",
   "execution_count": null,
   "metadata": {
    "collapsed": true
   },
   "outputs": [],
   "source": []
  },
  {
   "cell_type": "code",
   "execution_count": null,
   "metadata": {
    "collapsed": true
   },
   "outputs": [],
   "source": []
  },
  {
   "cell_type": "code",
   "execution_count": 81,
   "metadata": {
    "collapsed": false
   },
   "outputs": [
    {
     "data": {
      "text/html": [
       "<div>\n",
       "<table border=\"1\" class=\"dataframe\">\n",
       "  <thead>\n",
       "    <tr style=\"text-align: right;\">\n",
       "      <th></th>\n",
       "      <th>0</th>\n",
       "    </tr>\n",
       "  </thead>\n",
       "  <tbody>\n",
       "    <tr>\n",
       "      <th>4193910</th>\n",
       "      <td>104603717</td>\n",
       "    </tr>\n",
       "    <tr>\n",
       "      <th>4654150</th>\n",
       "      <td>119752</td>\n",
       "    </tr>\n",
       "    <tr>\n",
       "      <th>6245469</th>\n",
       "      <td>97902</td>\n",
       "    </tr>\n",
       "    <tr>\n",
       "      <th>5639372</th>\n",
       "      <td>88305</td>\n",
       "    </tr>\n",
       "    <tr>\n",
       "      <th>7371898</th>\n",
       "      <td>85981</td>\n",
       "    </tr>\n",
       "  </tbody>\n",
       "</table>\n",
       "</div>"
      ],
      "text/plain": [
       "                 0\n",
       "4193910  104603717\n",
       "4654150     119752\n",
       "6245469      97902\n",
       "5639372      88305\n",
       "7371898      85981"
      ]
     },
     "execution_count": 81,
     "metadata": {},
     "output_type": "execute_result"
    }
   ],
   "source": [
    "df.sort_values(0, ascending=False).head()"
   ]
  },
  {
   "cell_type": "code",
   "execution_count": 93,
   "metadata": {
    "collapsed": false
   },
   "outputs": [
    {
     "data": {
      "text/plain": [
       "'7371898'"
      ]
     },
     "execution_count": 93,
     "metadata": {},
     "output_type": "execute_result"
    }
   ],
   "source": [
    "# let's try to get a pajek (.net) file for the fifth biggest cluster\n",
    "test_cluster_name = '7371898'\n",
    "test_cluster_name"
   ]
  },
  {
   "cell_type": "code",
   "execution_count": 94,
   "metadata": {
    "collapsed": false
   },
   "outputs": [
    {
     "name": "stdout",
     "output_type": "stream",
     "text": [
      "0, len(paper_ids) == 0\n",
      "1, len(paper_ids) == 0\n",
      "5, len(paper_ids) == 0\n",
      "10, len(paper_ids) == 0\n",
      "100, len(paper_ids) == 0\n",
      "1000, len(paper_ids) == 0\n",
      "10000, len(paper_ids) == 0\n",
      "100000, len(paper_ids) == 0\n",
      "1000000, len(paper_ids) == 0\n",
      "5000000, len(paper_ids) == 0\n",
      "10000000, len(paper_ids) == 0\n",
      "50000000, len(paper_ids) == 0\n",
      "100000000, len(paper_ids) == 0\n",
      "150000000, len(paper_ids) == 0\n",
      "CPU times: user 2min 10s, sys: 2.94 s, total: 2min 13s\n",
      "Wall time: 3min 42s\n",
      "Parser   : 1.11 s\n"
     ]
    }
   ],
   "source": [
    "# %%time\n",
    "paper_ids = []\n",
    "with open(fname, 'r') as f:  #open tree file\n",
    "    i = 0\n",
    "    num_in_test_cluster = c[test_cluster_name]\n",
    "    for line in f:\n",
    "        if line[0] == '*':\n",
    "            continue\n",
    "        if line[:len(test_cluster_name)] == test_cluster_name:\n",
    "            paperid = line.strip().split(' ')[2]\n",
    "            paperid = paperid.strip('\"')\n",
    "            paper_ids.append(paperid)\n",
    "            \n",
    "            if len(paper_ids) == num_in_test_cluster:\n",
    "                break\n",
    "       \n",
    "        \n",
    "        if (i in [1, 5, 10, 100, 1000, 10000, 100000, 1e6, 5e6, 10e6]) or (i % 50e6 == 0):\n",
    "            print(\"{}, len(paper_ids) == {}\".format(i, len(paper_ids)))\n",
    "        i += 1"
   ]
  },
  {
   "cell_type": "code",
   "execution_count": 96,
   "metadata": {
    "collapsed": false
   },
   "outputs": [
    {
     "name": "stdout",
     "output_type": "stream",
     "text": [
      "85981\n",
      "85981\n"
     ]
    }
   ],
   "source": [
    "print(len(paper_ids))\n",
    "paper_ids = set(paper_ids)\n",
    "print(len(paper_ids))"
   ]
  },
  {
   "cell_type": "code",
   "execution_count": 105,
   "metadata": {
    "collapsed": false
   },
   "outputs": [
    {
     "name": "stdout",
     "output_type": "stream",
     "text": [
      "*vertices 219963473\n",
      "\n",
      "mode: v\n",
      "\n",
      "*edges 1034566885\n",
      "\n",
      "mode: e\n",
      "\n",
      "85981\n",
      "1003129\n",
      "CPU times: user 17min 13s, sys: 11.4 s, total: 17min 25s\n",
      "Wall time: 26min 22s\n"
     ]
    }
   ],
   "source": [
    "# %%time\n",
    "lines = {\n",
    "    'vertices': [],\n",
    "    'edges': []\n",
    "}\n",
    "paper_indices = []\n",
    "with open(pjk_fname, 'r') as f:\n",
    "    i = 0\n",
    "    mode = ''\n",
    "    for line in f:\n",
    "        if line[0] == '*':\n",
    "            if line[1].lower() == 'v':\n",
    "                print(line)\n",
    "                print(\"mode: v\")\n",
    "                print(\"\")\n",
    "                mode = 'v'\n",
    "            elif line[1].lower() in ['a', 'e']:\n",
    "                print(line)\n",
    "                print(\"mode: e\")\n",
    "                print(\"\")\n",
    "                paper_indices = set(paper_indices)  # should make lookup more efficient\n",
    "                mode = 'e'\n",
    "            continue\n",
    "        \n",
    "        if mode == 'v':\n",
    "            items = line.strip().split(' ')\n",
    "            paper_index = items[0]\n",
    "            paper_id = items[1].strip('\"')\n",
    "            if paper_id in paper_ids:\n",
    "                paper_indices.append(paper_index)\n",
    "                lines['vertices'].append(line)\n",
    "        elif mode == 'e':\n",
    "            # edges\n",
    "            items = line.strip().split(' ')\n",
    "            citing_index = items[0]\n",
    "            ;\n",
    "            if citing_index in paper_indices:\n",
    "                cited_index = items[1]\n",
    "                if cited_index in paper_indices:\n",
    "                    lines['edges'].append(line)\n",
    "        i += 1\n",
    "print(len(lines['vertices']))\n",
    "print(len(lines['edges']))"
   ]
  },
  {
   "cell_type": "code",
   "execution_count": 108,
   "metadata": {
    "collapsed": false
   },
   "outputs": [],
   "source": [
    "outfname = 'wos_cluster_{}.net'.format(test_cluster_name)"
   ]
  },
  {
   "cell_type": "code",
   "execution_count": 109,
   "metadata": {
    "collapsed": false
   },
   "outputs": [
    {
     "data": {
      "text/plain": [
       "'wos_cluster_7371898.net'"
      ]
     },
     "execution_count": 109,
     "metadata": {},
     "output_type": "execute_result"
    }
   ],
   "source": [
    "outfname"
   ]
  },
  {
   "cell_type": "code",
   "execution_count": 111,
   "metadata": {
    "collapsed": false
   },
   "outputs": [
    {
     "name": "stdout",
     "output_type": "stream",
     "text": [
      "writing 85981 vertices\n",
      "writing 1003129 arcs\n",
      "CPU times: user 248 ms, sys: 24 ms, total: 272 ms\n",
      "Wall time: 537 ms\n"
     ]
    }
   ],
   "source": [
    "# %%time\n",
    "with open(os.path.join('data', outfname), 'w') as outf:\n",
    "    num_vertices = len(lines['vertices'])\n",
    "    print(\"writing {} vertices\".format(num_vertices))\n",
    "    outf.write('*vertices {}\\n'.format(num_vertices))\n",
    "    for line in lines['vertices']:\n",
    "        outf.write(line)\n",
    "    \n",
    "    num_edges = len(lines['edges'])\n",
    "    print(\"writing {} arcs\".format(num_edges))\n",
    "    outf.write('*arcs {}\\n'.format(num_edges))\n",
    "    for line in lines['edges']:\n",
    "        outf.write(line)"
   ]
  },
  {
   "cell_type": "code",
   "execution_count": null,
   "metadata": {
    "collapsed": true
   },
   "outputs": [],
   "source": []
  }
 ],
 "metadata": {
  "kernelspec": {
   "display_name": "Python 2",
   "language": "python",
   "name": "python2"
  },
  "language_info": {
   "codemirror_mode": {
    "name": "ipython",
    "version": 2
   },
   "file_extension": ".py",
   "mimetype": "text/x-python",
   "name": "python",
   "nbconvert_exporter": "python",
   "pygments_lexer": "ipython2",
   "version": "2.7.12"
  }
 },
 "nbformat": 4,
 "nbformat_minor": 0
}
