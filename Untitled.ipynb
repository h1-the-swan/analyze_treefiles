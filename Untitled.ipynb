{
 "cells": [
  {
   "cell_type": "code",
   "execution_count": 1,
   "metadata": {
    "collapsed": true
   },
   "outputs": [],
   "source": [
    "from collections import Counter"
   ]
  },
  {
   "cell_type": "code",
   "execution_count": 2,
   "metadata": {
    "collapsed": true
   },
   "outputs": [],
   "source": [
    "def parse_tree_line(line):\n",
    "    line = line.strip().split(' ')\n",
    "    cl = line[0]\n",
    "    paper_rank = float(line[1])\n",
    "    paper_id = line[2].strip('\"')\n",
    "    return {\n",
    "        'cl': cl,\n",
    "        'paper_rank': paper_rank,\n",
    "        'paper_id': paper_id\n",
    "    }"
   ]
  },
  {
   "cell_type": "code",
   "execution_count": 3,
   "metadata": {
    "collapsed": true
   },
   "outputs": [],
   "source": [
    "fname = 'wos_one-based-numbering.tree'"
   ]
  },
  {
   "cell_type": "code",
   "execution_count": 4,
   "metadata": {
    "collapsed": false
   },
   "outputs": [
    {
     "name": "stdout",
     "output_type": "stream",
     "text": [
      "0\n",
      "1\n",
      "5\n",
      "10\n",
      "100\n",
      "1000\n",
      "10000\n",
      "100000\n",
      "1000000\n",
      "5000000\n",
      "10000000\n",
      "50000000\n",
      "100000000\n",
      "150000000\n",
      "200000000\n",
      "CPU times: user 9min 3s, sys: 5.79 s, total: 9min 9s\n",
      "Wall time: 9min 15s\n"
     ]
    }
   ],
   "source": [
    "%%time\n",
    "c = Counter()\n",
    "num_vertices = 219963473\n",
    "i = 0\n",
    "with open(fname, 'r') as f:\n",
    "    for line in f:\n",
    "        if line[0] == \"#\":\n",
    "            continue\n",
    "            \n",
    "        item = parse_tree_line(line)\n",
    "        cl = item['cl']\n",
    "        cl = cl.split(':')[0]\n",
    "        c[cl] += 1\n",
    "    \n",
    "        if (i in [1, 5, 10, 100, 1000, 10000, 100000, 1e6, 5e6, 10e6]) or (i % 50e6 == 0):\n",
    "            print(i)\n",
    "        i += 1"
   ]
  },
  {
   "cell_type": "code",
   "execution_count": 5,
   "metadata": {
    "collapsed": false
   },
   "outputs": [
    {
     "data": {
      "text/plain": [
       "[('4193910', 104603717),\n",
       " ('4654150', 119752),\n",
       " ('6245469', 97902),\n",
       " ('5639372', 88305),\n",
       " ('7371898', 85981),\n",
       " ('6273522', 85794),\n",
       " ('1935800', 79509),\n",
       " ('1000491', 74676),\n",
       " ('6497556', 71522),\n",
       " ('808980', 65840)]"
      ]
     },
     "execution_count": 5,
     "metadata": {},
     "output_type": "execute_result"
    }
   ],
   "source": [
    "c.most_common(10)"
   ]
  },
  {
   "cell_type": "code",
   "execution_count": 6,
   "metadata": {
    "collapsed": false
   },
   "outputs": [
    {
     "name": "stderr",
     "output_type": "stream",
     "text": [
      "/share/apps/python/anaconda2/lib/python2.7/site-packages/matplotlib/__init__.py:872: UserWarning: axes.color_cycle is deprecated and replaced with axes.prop_cycle; please use the latter.\n",
      "  warnings.warn(self.msg_depr % (key, alt_key))\n"
     ]
    }
   ],
   "source": [
    "import pandas as pd\n",
    "import numpy as np\n",
    "import matplotlib.pyplot as plt\n",
    "import seaborn as sns"
   ]
  },
  {
   "cell_type": "code",
   "execution_count": 7,
   "metadata": {
    "collapsed": true
   },
   "outputs": [],
   "source": [
    "%matplotlib inline"
   ]
  },
  {
   "cell_type": "code",
   "execution_count": 9,
   "metadata": {
    "collapsed": false
   },
   "outputs": [
    {
     "data": {
      "text/html": [
       "<div>\n",
       "<table border=\"1\" class=\"dataframe\">\n",
       "  <thead>\n",
       "    <tr style=\"text-align: right;\">\n",
       "      <th></th>\n",
       "      <th>0</th>\n",
       "    </tr>\n",
       "  </thead>\n",
       "  <tbody>\n",
       "    <tr>\n",
       "      <th>34234</th>\n",
       "      <td>5</td>\n",
       "    </tr>\n",
       "    <tr>\n",
       "      <th>324</th>\n",
       "      <td>6</td>\n",
       "    </tr>\n",
       "  </tbody>\n",
       "</table>\n",
       "</div>"
      ],
      "text/plain": [
       "       0\n",
       "34234  5\n",
       "324    6"
      ]
     },
     "execution_count": 9,
     "metadata": {},
     "output_type": "execute_result"
    }
   ],
   "source": [
    "pd.DataFrame.from_dict({34234: 5, 324: 6}, orient='index')"
   ]
  },
  {
   "cell_type": "code",
   "execution_count": 10,
   "metadata": {
    "collapsed": false
   },
   "outputs": [],
   "source": [
    "df = pd.DataFrame.from_dict(c, orient='index')"
   ]
  },
  {
   "cell_type": "code",
   "execution_count": 13,
   "metadata": {
    "collapsed": false
   },
   "outputs": [
    {
     "data": {
      "text/html": [
       "<div>\n",
       "<table border=\"1\" class=\"dataframe\">\n",
       "  <thead>\n",
       "    <tr style=\"text-align: right;\">\n",
       "      <th></th>\n",
       "      <th>0</th>\n",
       "    </tr>\n",
       "  </thead>\n",
       "  <tbody>\n",
       "    <tr>\n",
       "      <th>4193910</th>\n",
       "      <td>104603717</td>\n",
       "    </tr>\n",
       "    <tr>\n",
       "      <th>4654150</th>\n",
       "      <td>119752</td>\n",
       "    </tr>\n",
       "    <tr>\n",
       "      <th>6245469</th>\n",
       "      <td>97902</td>\n",
       "    </tr>\n",
       "    <tr>\n",
       "      <th>5639372</th>\n",
       "      <td>88305</td>\n",
       "    </tr>\n",
       "    <tr>\n",
       "      <th>7371898</th>\n",
       "      <td>85981</td>\n",
       "    </tr>\n",
       "  </tbody>\n",
       "</table>\n",
       "</div>"
      ],
      "text/plain": [
       "                 0\n",
       "4193910  104603717\n",
       "4654150     119752\n",
       "6245469      97902\n",
       "5639372      88305\n",
       "7371898      85981"
      ]
     },
     "execution_count": 13,
     "metadata": {},
     "output_type": "execute_result"
    }
   ],
   "source": [
    "df.sort_values(0, ascending=False).head()"
   ]
  },
  {
   "cell_type": "code",
   "execution_count": 26,
   "metadata": {
    "collapsed": false
   },
   "outputs": [
    {
     "name": "stdout",
     "output_type": "stream",
     "text": [
      "total: 219963473\n",
      "num_clusters: 13041875\n",
      "num_singletons: 7218400 (55.3% of the clusters, 3.3% of the papers)\n"
     ]
    }
   ],
   "source": [
    "total = df[0].sum()\n",
    "print('total: {}'.format(total))\n",
    "num_clusters = df.shape[0]\n",
    "print('num_clusters: {}'.format(num_clusters))\n",
    "num_singletons = (df[0]==1).sum()\n",
    "print('num_singletons: {} ({:.1f}% of the clusters, {:.1f}% of the papers)'.format(num_singletons, float(num_singletons)/num_clusters*100, float(num_singletons)/total*100))"
   ]
  },
  {
   "cell_type": "code",
   "execution_count": null,
   "metadata": {
    "collapsed": true
   },
   "outputs": [],
   "source": []
  }
 ],
 "metadata": {
  "kernelspec": {
   "display_name": "Python 2",
   "language": "python",
   "name": "python2"
  },
  "language_info": {
   "codemirror_mode": {
    "name": "ipython",
    "version": 2
   },
   "file_extension": ".py",
   "mimetype": "text/x-python",
   "name": "python",
   "nbconvert_exporter": "python",
   "pygments_lexer": "ipython2",
   "version": "2.7.12"
  }
 },
 "nbformat": 4,
 "nbformat_minor": 0
}
